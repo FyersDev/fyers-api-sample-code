{
 "cells": [
  {
   "cell_type": "code",
   "execution_count": null,
   "source": [
    "\n",
    "from fyers_api.Websocket import ws"
   ],
   "outputs": [],
   "metadata": {}
  },
  {
   "cell_type": "markdown",
   "source": [
    "# order update (Background Process)\n",
    "\n",
    "Main Pointers:\n",
    "1. To run the process in background the \"run_background\" flag should be set to True.\n",
    "2. you can access the log files by providing the log_path to the FyersSocket Object\n",
    "3. fs.keep_running() is necessary in order to get the data from Thread\n",
    "4. custom_message() this function can be anything which you want to configure at your end "
   ],
   "metadata": {}
  },
  {
   "cell_type": "code",
   "execution_count": null,
   "source": [
    "def run_process_background_order_update(access_token):\n",
    "    data_type = \"orderUpdate\"\n",
    "    fs = ws.FyersSocket(access_token=access_token,run_background=True,log_path=\"/home/Downloads/\")\n",
    "    fs.websocket_data = custom_message\n",
    "    fs.subscribe(data_type=data_type)\n",
    "    \n",
    "    fs.keep_running()\n",
    "\n",
    "\n",
    "def custom_message(msg):\n",
    "    print (f\"Custom:{msg}\") \n",
    "\n",
    "\n",
    "def main():\n",
    "    access_token= \"L9*****BW-100:eyJ0eXAiOiJKV1QiLCJhbGciOiJIUzI1NiJ9******************************lcnMuaW4iLCJpYXQiOjE2MzE1ODY2MzUsImV4cCI6MTYzMTY2NTgzNSwibmJmIjoxNjMxNTg2NjM1LCJhdWQiOlsieDowIiwieDoxIiwieDoyIiwiZDoxIiwiZDoyIiwieDoxIiwieDowIl0sInN1YiI6ImFjY2Vzc190b2tlbiIsImF0X2hhc2giOiJnQUFBQUFCaFFBbExjOTlIUG85TTF4LWl5bTBZRFRHMHhXSi1HVGRkNU5BWlFET2xXYUpIS2h4S2RjMXVYckthc1R3VGlDQ01sYTBhanp6SmYwSWtHSHVFQjcwTThUcFcxckctQUdOWGZlQWhzZVY0bTVRSm1FRT0iLCJkaXNwbGF5X25hbWUiOiJQSVlVU0ggUkFKRU5EUkEgS0FQU0UiLCJmeV9pZCI6IkRQMDA0MDQiLCJhcHBUeXBlIjoxMDAsInBvYV9mbGFnIjoiTiJ9.Dacrm4oZU1Vcarr3nW8rKueJpVNBJCNVvdjg0cDMQrQ\"\n",
    "    run_process_background_order_update(access_token)\n",
    "if __name__ == '__main__':\n",
    "\tmain()"
   ],
   "outputs": [],
   "metadata": {}
  },
  {
   "cell_type": "markdown",
   "source": [
    "# Symbol Data (Background Process)\n",
    "\n",
    "Main Pointers:\n",
    "1. To run the process in background the \"run_background\" flag should be set to True.\n",
    "2. you can access the log files by providing the log_path to the FyersSocket Object\n",
    "3. fs.keep_running() is necessary in order to get the data from Thread\n",
    "4. custom_message() this function can be anything which you want to configure at your end "
   ],
   "metadata": {}
  },
  {
   "cell_type": "code",
   "execution_count": null,
   "source": [
    "def run_process_background_symbol_data(access_token):\n",
    "    data_type = \"symbolData\"\n",
    "    symbol = [\"NSE:SBIN-EQ\",\"NSE:ONGC-EQ\"]   ##NSE,BSE sample symbols\n",
    "#     symbol =[\"MCX:SILVERMIC21NOVFUT\",\"MCX:GOLDPETAL21SEPFUT\"]  ##MCX SYMBOLS \n",
    "    fs = ws.FyersSocket(access_token=access_token,run_background=True,log_path=\"/home/Downloads/\")\n",
    "    fs.websocket_data = custom_message\n",
    "    fs.subscribe(symbol=symbol,data_type=data_type)\n",
    "    fs.keep_running()\n",
    "\n",
    "def custom_message(msg):\n",
    "    print (f\"Custom:{msg}\") \n",
    "\n",
    "\n",
    "def main():\n",
    "    access_token= \"L9******BW-100:eyJ0eXAiOiJKV1QiLCJhbGciOiJIUzI1NiJ****************************nllcnMuaW4iLCJpYXQiOjE2MzE1ODY2MzUsImV4cCI6MTYzMTY2NTgzNSwibmJmIjoxNjMxNTg2NjM1LCJhdWQiOlsieDowIiwieDoxIiwieDoyIiwiZDoxIiwiZDoyIiwieDoxIiwieDowIl0sInN1YiI6ImFjY2Vzc190b2tlbiIsImF0X2hhc2giOiJnQUFBQUFCaFFBbExjOTlIUG85TTF4LWl5bTBZRFRHMHhXSi1HVGRkNU5BWlFET2xXYUpIS2h4S2RjMXVYckthc1R3VGlDQ01sYTBhanp6SmYwSWtHSHVFQjcwTThUcFcxckctQUdOWGZlQWhzZVY0bTVRSm1FRT0iLCJkaXNwbGF5X25hbWUiOiJQSVlVU0ggUkFKRU5EUkEgS0FQU0UiLCJmeV9pZCI6IkRQMDA0MDQiLCJhcHBUeXBlIjoxMDAsInBvYV9mbGFnIjoiTiJ9.Dacrm4oZU1Vcarr3nW8rKueJpVNBJCNVvdjg0cDMQrQ\"\n",
    "    run_process_background_symbol_data(access_token)\n",
    "   \n",
    "if __name__ == '__main__':\n",
    "\tmain()"
   ],
   "outputs": [],
   "metadata": {}
  },
  {
   "cell_type": "code",
   "execution_count": null,
   "source": [],
   "outputs": [],
   "metadata": {}
  },
  {
   "cell_type": "code",
   "execution_count": null,
   "source": [],
   "outputs": [],
   "metadata": {}
  }
 ],
 "metadata": {
  "kernelspec": {
   "display_name": "Python 3 (ipykernel)",
   "language": "python",
   "name": "python3"
  },
  "language_info": {
   "codemirror_mode": {
    "name": "ipython",
    "version": 3
   },
   "file_extension": ".py",
   "mimetype": "text/x-python",
   "name": "python",
   "nbconvert_exporter": "python",
   "pygments_lexer": "ipython3",
   "version": "3.7.11"
  }
 },
 "nbformat": 4,
 "nbformat_minor": 5
}