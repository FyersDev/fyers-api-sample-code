{
 "cells": [
  {
   "cell_type": "code",
   "execution_count": null,
   "source": [
    "\n",
    "from fyers_api.Websocket import ws\n"
   ],
   "outputs": [],
   "metadata": {}
  },
  {
   "cell_type": "markdown",
   "source": [
    "# order Update (Foreground Process)\n",
    "\n",
    "Main Pointers:\n",
    "1. To run the process in background the \"run_background\" flag should be set to False.\n",
    "2. you can access the log files by providing the log_path to the FyersSocket Object\n",
    "3. fs.keep_running() is necessary in order to get the data from Thread\n",
    "4. custom_message() this function can be anything which you want to configure at your end "
   ],
   "metadata": {}
  },
  {
   "cell_type": "code",
   "execution_count": null,
   "source": [
    "def run_process_foreground_order_update(access_token):\n",
    "    data_type = \"orderUpdate\"\n",
    "    fs = ws.FyersSocket(access_token=access_token,run_background=False,log_path=\"\")\n",
    "    fs.websocket_data = custom_message\n",
    "    fs.subscribe(data_type=data_type)\n",
    "    fs.keep_running()\n",
    "\n",
    "\n",
    "def custom_message(msg):\n",
    "    print (f\"Custom:{msg}\") \n",
    "\n",
    "\n",
    "def main():\n",
    "    access_token= \"L9*******BW-100:eyJ0eXAiOiJKV1QiLCJhbGci************************kuZnllcnMuaW4iLCJpYXQiOjE2MzI0NzgzNzgsImV4cCI6MTYzMjUyOTg1OCwibmJmIjoxNjMyNDc4Mzc4LCJhdWQiOlsieDowIiwieDoxIiwieDoyIiwiZDoxIiwiZDoyIiwieDoxIiwieDowIl0sInN1YiI6ImFjY2Vzc190b2tlbiIsImF0X2hhc2giOiJnQUFBQUFCaFRhU3FPWXdVNE50cE9UQm9tbHl5Y3RTb0o3QlVDUFRwWkNHem85SW5VVFlNRWZrdm5lWHFETTJiTEtub09Nc1h0d2hGQ0J3c2JtRWZlWm1TRWdrZ1NNcUJJektRX2RLOWtLajBnZ1dUNUVIOTF1az0iLCJkaXNwbGF5X25hbWUiOiJQSVlVU0ggUkFKRU5EUkEgS0FQU0UiLCJmeV9pZCI6IkRQMDA0MDQiLCJhcHBUeXBlIjoxMDAsInBvYV9mbGFnIjoiTiJ9.qkdO2vC8mic10ETqQloSrQ6-iHKX5eBWlZ3pBfMxAIA\"\n",
    "    run_process_foreground_order_update(access_token)\n",
    "if __name__ == '__main__':\n",
    "\tmain()"
   ],
   "outputs": [],
   "metadata": {}
  },
  {
   "cell_type": "markdown",
   "source": [
    "# Symbol Data (Foreground Process)\n",
    "\n",
    "Main Pointers:\n",
    "1. To run the process in background the \"run_background\" flag should be set to False.\n",
    "2. you can access the log files by providing the log_path to the FyersSocket Object\n",
    "3. fs.keep_running() is necessary in order to get the data from Thread\n",
    "4. custom_message() this function can be anything which you want to configure at your end "
   ],
   "metadata": {}
  },
  {
   "cell_type": "code",
   "execution_count": null,
   "source": [
    "def run_process_foreground_symbol_data(access_token):\n",
    "    data_type = \"symbolData\"\n",
    "    symbol = [\"NSE:NIFTY50-INDEX\",\"NSE:SBIN-EQ\"]   ##NSE,BSE sample symbols\n",
    "#     symbol =[\"MCX:ALUMINIUM21SEPFUT\",\"MCX:SILVERMIC21NOVFUT\"]\n",
    "    fs = ws.FyersSocket(access_token=access_token,run_background=False,log_path=\"\")\n",
    "    fs.websocket_data = custom_message\n",
    "    fs.subscribe(symbol=symbol,data_type=data_type)\n",
    "    # symbol = [\"NSE:ONGC-EQ\"]\n",
    "    # fs.unsubscribe(symbol=symbol)\n",
    "    fs.keep_running()\n",
    "\n",
    "def custom_message(msg):\n",
    "    print (f\"Custom:{msg}\") \n",
    "\n",
    "\n",
    "def main():\n",
    "    access_token= \"L*********BW-100:eyJ0eXAiOiJKV1QiLCJhbGc***************************cGkuZnllcnMuaW4iLCJpYXQiOjE2MzI4MDYxNjQsImV4cCI6MTYzMjg3NTQwNCwibmJmIjoxNjMyODA2MTY0LCJhdWQiOlsieDowIiwieDoxIiwieDoyIiwiZDoxIiwiZDoyIiwieDoxIiwieDowIl0sInN1YiI6ImFjY2Vzc190b2tlbiIsImF0X2hhc2giOiJnQUFBQUFCaFVxVVVoT0VINDUyUGRhRW5pZWNHQS1QaUNhaXFwVVdsYl92ZE9SdmFMOFUwTGt6WVJFLTByLUNHZkEteS1UUmo0UndDYi1CaXItcEtsWGs4SnJNMkNzVU9wdmhEc290TUVfYUdyUU85TjUwaExDWT0iLCJkaXNwbGF5X25hbWUiOiJQSVlVU0ggUkFKRU5EUkEgS0FQU0UiLCJmeV9pZCI6IkRQMDA0MDQiLCJhcHBUeXBlIjoxMDAsInBvYV9mbGFnIjoiTiJ9.hcxy3cddSU9crbB0qw1kIoYEYbGLh4o2-RmDzK3nYOs\"\n",
    "    run_process_foreground_symbol_data(access_token)\n",
    "\n",
    "if __name__ == '__main__':\n",
    "\tmain()"
   ],
   "outputs": [],
   "metadata": {}
  },
  {
   "cell_type": "code",
   "execution_count": null,
   "source": [],
   "outputs": [],
   "metadata": {}
  },
  {
   "cell_type": "code",
   "execution_count": null,
   "source": [],
   "outputs": [],
   "metadata": {}
  }
 ],
 "metadata": {
  "kernelspec": {
   "display_name": "Python 3 (ipykernel)",
   "language": "python",
   "name": "python3"
  },
  "language_info": {
   "codemirror_mode": {
    "name": "ipython",
    "version": 3
   },
   "file_extension": ".py",
   "mimetype": "text/x-python",
   "name": "python",
   "nbconvert_exporter": "python",
   "pygments_lexer": "ipython3",
   "version": "3.8.10"
  }
 },
 "nbformat": 4,
 "nbformat_minor": 5
}